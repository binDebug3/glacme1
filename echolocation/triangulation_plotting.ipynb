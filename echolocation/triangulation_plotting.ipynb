{
 "cells": [
  {
   "attachments": {},
   "cell_type": "markdown",
   "metadata": {},
   "source": [
    "## Direction detection 1.0\n",
    "Our triangulation method proceeds as follows:\n",
    "\n",
    "First, we determine which two of the three nodes detected the noise first, that tells which arc we need to look at. \n",
    "Then, we find the angle of the circle with a radius equal to the offset that is tangent to the line joining it with the other node. We will return this angle and the corresponding arc."
   ]
  },
  {
   "cell_type": "code",
   "execution_count": 9,
   "metadata": {},
   "outputs": [],
   "source": [
    "import numpy as np\n",
    "\n",
    "SPEED_OF_SOUND = 1\n",
    "W1 = 1 #Distance from 0 to 1\n",
    "W2 = 1 #Distance from 1 to 2\n",
    "W3 = 1 #Distance from 2 to 0\n",
    "DISTANCES = {(0,1):W1,(1,0):W1,(0,2):W2,(2,0):W2,(1,2):W3,(2,1):W3}"
   ]
  },
  {
   "cell_type": "code",
   "execution_count": 24,
   "metadata": {},
   "outputs": [
    {
     "name": "stdout",
     "output_type": "stream",
     "text": [
      "1 0.3899999999999999\n"
     ]
    },
    {
     "data": {
      "text/plain": [
       "(array([1, 0, 2], dtype=int64), (1, 0), 67.0455005986072)"
      ]
     },
     "execution_count": 24,
     "metadata": {},
     "output_type": "execute_result"
    }
   ],
   "source": [
    "def find_sound_direction(T):\n",
    "\n",
    "    node_proximity=np.argsort(T)\n",
    "    arc = tuple(node_proximity[0:2])\n",
    "    distance_delay = SPEED_OF_SOUND * (T[node_proximity[1]]-T[node_proximity[0]])\n",
    "    print(DISTANCES[arc],distance_delay)\n",
    "    angle = np.rad2deg(np.arccos(distance_delay / DISTANCES[arc]))\n",
    "    return node_proximity,arc,angle\n",
    "\n",
    "find_sound_direction(np.array([1.4,1.01,1.4]))"
   ]
  }
 ],
 "metadata": {
  "kernelspec": {
   "display_name": "base",
   "language": "python",
   "name": "python3"
  },
  "language_info": {
   "codemirror_mode": {
    "name": "ipython",
    "version": 3
   },
   "file_extension": ".py",
   "mimetype": "text/x-python",
   "name": "python",
   "nbconvert_exporter": "python",
   "pygments_lexer": "ipython3",
   "version": "3.9.12"
  },
  "orig_nbformat": 4
 },
 "nbformat": 4,
 "nbformat_minor": 2
}
